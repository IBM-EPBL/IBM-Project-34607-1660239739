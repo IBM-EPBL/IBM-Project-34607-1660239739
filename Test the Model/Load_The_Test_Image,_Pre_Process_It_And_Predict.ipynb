{
 "cells": [
  {
   "cell_type": "markdown",
   "metadata": {
    "id": "2_G7Q1vMomfr"
   },
   "source": [
    "## Project Name: Real-Time Communication System Powered by AI for Specially Abled\n",
    "\n",
    "TEAM ID: PNT2022TMID14822\n"
   ]
  },
  {
   "cell_type": "markdown",
   "metadata": {
    "id": "uFK2dW_1oyoH"
   },
   "source": [
    "Model Building"
   ]
  },
  {
   "cell_type": "markdown",
   "metadata": {
    "id": "nP5jmnM5o1Z1"
   },
   "source": [
    "Import The Required Model Building Libraries\n"
   ]
  },
  {
   "cell_type": "code",
   "execution_count": 1,
   "metadata": {
    "id": "I_mHw62oEUqr"
   },
   "outputs": [],
   "source": [
    "#import imagedatagenerator\n",
    "from keras.preprocessing.image import ImageDataGenerator"
   ]
  },
  {
   "cell_type": "code",
   "execution_count": 2,
   "metadata": {
    "id": "61VrGuKOoewu"
   },
   "outputs": [],
   "source": [
    "#training datagen\n",
    "train_datagen=ImageDataGenerator(rescale=1./255,shear_range=0.2,zoom_range=0.2,horizontal_flip=True)"
   ]
  },
  {
   "cell_type": "code",
   "execution_count": 3,
   "metadata": {
    "id": "xO75rsS3qDC5"
   },
   "outputs": [],
   "source": [
    "#testing datagen\n",
    "test_datagen=ImageDataGenerator(rescale=1./255)"
   ]
  },
  {
   "cell_type": "markdown",
   "metadata": {
    "id": "bYe1O2AfqIrf"
   },
   "source": [
    "IMPORTING tensorflow"
   ]
  },
  {
   "cell_type": "code",
   "execution_count": 4,
   "metadata": {
    "id": "ofDYoY7sqGDU"
   },
   "outputs": [],
   "source": [
    "import tensorflow as tf\n",
    "import os"
   ]
  },
  {
   "cell_type": "markdown",
   "metadata": {
    "id": "TAwZWfsjqOev"
   },
   "source": [
    "**Initialize The Model**"
   ]
  },
  {
   "cell_type": "code",
   "execution_count": 5,
   "metadata": {
    "id": "Ck6yBKf1qPZz"
   },
   "outputs": [],
   "source": [
    "#create model\n",
    "from keras.models import Sequential\n",
    "from keras.layers import Dense\n",
    "from keras.layers import Convolution2D\n",
    "from keras.layers import MaxPooling2D\n",
    "from keras.layers import Dropout\n",
    "from keras.layers import Flatten \n",
    "from tensorflow.keras.preprocessing.image import ImageDataGenerator"
   ]
  },
  {
   "cell_type": "code",
   "execution_count": 6,
   "metadata": {
    "id": "9jyZWCmLqT2F"
   },
   "outputs": [],
   "source": [
    "import numpy as np\n",
    "import matplotlib.pyplot as plt #to view graph in colab itself\n",
    "import IPython.display as display\n",
    "from PIL import Image\n",
    "import pathlib"
   ]
  },
  {
   "cell_type": "markdown",
   "metadata": {
    "id": "Tg-I2-QxqwaD"
   },
   "source": [
    "Unzipping the dataset"
   ]
  },
  {
   "cell_type": "code",
   "execution_count": 7,
   "metadata": {
    "colab": {
     "base_uri": "https://localhost:8080/"
    },
    "id": "PiYShEJBqy-0",
    "outputId": "10583a4e-d1c1-40e6-edb2-2251215c3edf"
   },
   "outputs": [],
   "source": [
    "#!unzip '/content/conversation engine for deaf and dumb (1).zip'"
   ]
  },
  {
   "cell_type": "markdown",
   "metadata": {
    "id": "2r95_bdVuEy1"
   },
   "source": [
    "Applying ImageDataGenerator to training set"
   ]
  },
  {
   "cell_type": "code",
   "execution_count": 8,
   "metadata": {
    "colab": {
     "base_uri": "https://localhost:8080/"
    },
    "id": "E18JQzzvrFpQ",
    "outputId": "401b4f59-5322-42d6-c79a-963518ecc0e1"
   },
   "outputs": [
    {
     "name": "stdout",
     "output_type": "stream",
     "text": [
      "Found 15130 images belonging to 9 classes.\n"
     ]
    }
   ],
   "source": [
    "x_train=train_datagen.flow_from_directory('./training_set',target_size=(64,64),batch_size=200,\n",
    "                                          class_mode='categorical',color_mode=\"grayscale\")"
   ]
  },
  {
   "cell_type": "markdown",
   "metadata": {
    "id": "pNsLjRsluO6H"
   },
   "source": [
    "Applying ImageDataGenerator to test set"
   ]
  },
  {
   "cell_type": "code",
   "execution_count": 9,
   "metadata": {
    "colab": {
     "base_uri": "https://localhost:8080/"
    },
    "id": "w_hFC8XztpO0",
    "outputId": "b1fd86d1-2ac0-4776-8e99-4e2f4af1b8b4"
   },
   "outputs": [
    {
     "name": "stdout",
     "output_type": "stream",
     "text": [
      "Found 2250 images belonging to 9 classes.\n"
     ]
    }
   ],
   "source": [
    "x_test=test_datagen.flow_from_directory('./test_set',target_size=(64,64),batch_size=200,\n",
    "                                          class_mode='categorical',color_mode=\"grayscale\")"
   ]
  },
  {
   "cell_type": "code",
   "execution_count": 10,
   "metadata": {
    "id": "a8ZGR9usdrNF"
   },
   "outputs": [],
   "source": [
    "a=len(x_train)\n",
    "b=len(x_test)"
   ]
  },
  {
   "cell_type": "markdown",
   "metadata": {
    "id": "_lw7qrnFdtso"
   },
   "source": [
    "Length of training set"
   ]
  },
  {
   "cell_type": "code",
   "execution_count": 11,
   "metadata": {
    "colab": {
     "base_uri": "https://localhost:8080/"
    },
    "id": "0FTaheN5dv8k",
    "outputId": "1845bb5e-05e0-43dc-ffaf-b1a92bbc41db"
   },
   "outputs": [
    {
     "name": "stdout",
     "output_type": "stream",
     "text": [
      "76\n"
     ]
    }
   ],
   "source": [
    "print(a)"
   ]
  },
  {
   "cell_type": "markdown",
   "metadata": {
    "id": "U1JzutxCdw2O"
   },
   "source": [
    "Length of test set"
   ]
  },
  {
   "cell_type": "code",
   "execution_count": 12,
   "metadata": {
    "colab": {
     "base_uri": "https://localhost:8080/"
    },
    "id": "jNI2FL3PdzDq",
    "outputId": "0d0b9e4c-4174-487f-f70b-6843e9b18b21"
   },
   "outputs": [
    {
     "name": "stdout",
     "output_type": "stream",
     "text": [
      "12\n"
     ]
    }
   ],
   "source": [
    "print(b)"
   ]
  },
  {
   "cell_type": "markdown",
   "metadata": {
    "id": "9SRg-omujmM6"
   },
   "source": [
    "**Add Layers**"
   ]
  },
  {
   "cell_type": "code",
   "execution_count": 13,
   "metadata": {
    "id": "iLJ7ctIrjsjB"
   },
   "outputs": [],
   "source": [
    "#create model\n",
    "model=Sequential()"
   ]
  },
  {
   "cell_type": "markdown",
   "metadata": {
    "id": "fZ7qF2celuwi"
   },
   "source": [
    "Add The Convolution Layer"
   ]
  },
  {
   "cell_type": "code",
   "execution_count": 14,
   "metadata": {
    "id": "HcUkfqaOl8_R"
   },
   "outputs": [],
   "source": [
    "model.add(Convolution2D(32,(3,3),input_shape=(64,64,1),activation='relu'))"
   ]
  },
  {
   "cell_type": "markdown",
   "metadata": {
    "id": "iihGqcQ4oLUz"
   },
   "source": [
    "Add Pooling Layer"
   ]
  },
  {
   "cell_type": "code",
   "execution_count": 15,
   "metadata": {
    "id": "PPt1BWsjoNVz"
   },
   "outputs": [],
   "source": [
    "model.add(MaxPooling2D(pool_size=(2,2)))"
   ]
  },
  {
   "cell_type": "markdown",
   "metadata": {
    "id": "HomIT83soZIm"
   },
   "source": [
    "Add The Flatten Layer"
   ]
  },
  {
   "cell_type": "code",
   "execution_count": 16,
   "metadata": {
    "id": "cxnSNEo3oZ3q"
   },
   "outputs": [],
   "source": [
    "model.add(Flatten())"
   ]
  },
  {
   "cell_type": "markdown",
   "metadata": {
    "id": "vwu2BIcho7UT"
   },
   "source": [
    "Adding The Dense Layers"
   ]
  },
  {
   "cell_type": "code",
   "execution_count": 17,
   "metadata": {
    "id": "mc4Vs7lypAZu"
   },
   "outputs": [],
   "source": [
    "#1st hidden layer\n",
    "model.add(Dense(units=512,activation='relu'))\n",
    "#2nd hidden layer\n",
    "model.add(Dense(units=261,activation='relu'))"
   ]
  },
  {
   "cell_type": "code",
   "execution_count": 18,
   "metadata": {
    "id": "FMEjPDaMqSWD"
   },
   "outputs": [],
   "source": [
    "#output layer\n",
    "model.add(Dense(units=9,activation='softmax'))"
   ]
  },
  {
   "cell_type": "markdown",
   "metadata": {
    "id": "yU1_Vi4trCCL"
   },
   "source": [
    "Compile The Model"
   ]
  },
  {
   "cell_type": "code",
   "execution_count": 19,
   "metadata": {
    "id": "ePb836_rrF9h"
   },
   "outputs": [],
   "source": [
    "model.compile(loss='categorical_crossentropy',optimizer='adam',metrics=['accuracy'])"
   ]
  },
  {
   "cell_type": "markdown",
   "metadata": {
    "id": "QnBKeI3yrs_V"
   },
   "source": [
    "Fit The Model"
   ]
  },
  {
   "cell_type": "code",
   "execution_count": 20,
   "metadata": {
    "colab": {
     "base_uri": "https://localhost:8080/"
    },
    "id": "XtvYEGAVrwnL",
    "outputId": "a0aa22ae-7beb-41e9-834d-1afc3ad55f9a"
   },
   "outputs": [
    {
     "name": "stdout",
     "output_type": "stream",
     "text": [
      "WARNING:tensorflow:From <ipython-input-20-e4489d41b998>:1: Model.fit_generator (from tensorflow.python.keras.engine.training) is deprecated and will be removed in a future version.\n",
      "Instructions for updating:\n",
      "Please use Model.fit, which supports generators.\n",
      "Epoch 1/10\n",
      "76/76 [==============================] - 94s 1s/step - loss: 0.3313 - accuracy: 0.8919 - val_loss: 0.2556 - val_accuracy: 0.9627\n",
      "Epoch 2/10\n",
      "76/76 [==============================] - 95s 1s/step - loss: 0.0315 - accuracy: 0.9919 - val_loss: 0.2587 - val_accuracy: 0.9680\n",
      "Epoch 3/10\n",
      "76/76 [==============================] - 95s 1s/step - loss: 0.0161 - accuracy: 0.9957 - val_loss: 0.2845 - val_accuracy: 0.9764\n",
      "Epoch 4/10\n",
      "76/76 [==============================] - 97s 1s/step - loss: 0.0096 - accuracy: 0.9973 - val_loss: 0.3045 - val_accuracy: 0.9733\n",
      "Epoch 5/10\n",
      "76/76 [==============================] - 99s 1s/step - loss: 0.0072 - accuracy: 0.9984 - val_loss: 0.2687 - val_accuracy: 0.9787\n",
      "Epoch 6/10\n",
      "76/76 [==============================] - 96s 1s/step - loss: 0.0065 - accuracy: 0.9985 - val_loss: 0.3240 - val_accuracy: 0.9778\n",
      "Epoch 7/10\n",
      "76/76 [==============================] - 64s 842ms/step - loss: 0.0035 - accuracy: 0.9989 - val_loss: 0.2982 - val_accuracy: 0.9782\n",
      "Epoch 8/10\n",
      "76/76 [==============================] - 61s 807ms/step - loss: 0.0017 - accuracy: 0.9997 - val_loss: 0.3645 - val_accuracy: 0.9782\n",
      "Epoch 9/10\n",
      "76/76 [==============================] - 81s 1s/step - loss: 0.0013 - accuracy: 0.9998 - val_loss: 0.3018 - val_accuracy: 0.9787\n",
      "Epoch 10/10\n",
      "76/76 [==============================] - 66s 864ms/step - loss: 0.0039 - accuracy: 0.9987 - val_loss: 0.3672 - val_accuracy: 0.9764\n"
     ]
    },
    {
     "data": {
      "text/plain": [
       "<tensorflow.python.keras.callbacks.History at 0x21354cd29d0>"
      ]
     },
     "execution_count": 20,
     "metadata": {},
     "output_type": "execute_result"
    }
   ],
   "source": [
    "model.fit_generator(x_train,steps_per_epoch=len(x_train),epochs=10,validation_data=x_test,validation_steps=len(x_test))"
   ]
  },
  {
   "cell_type": "markdown",
   "metadata": {
    "id": "MVIcxRN-tm0b"
   },
   "source": [
    "Save The Model"
   ]
  },
  {
   "cell_type": "code",
   "execution_count": 21,
   "metadata": {
    "id": "VUqN_C8UtpAP"
   },
   "outputs": [],
   "source": [
    "model.save('aslpng2.h5')"
   ]
  },
  {
   "cell_type": "markdown",
   "metadata": {
    "id": "ZkOZnVsn4N0M"
   },
   "source": [
    "Import The Packages And Load The Saved Model"
   ]
  },
  {
   "cell_type": "code",
   "execution_count": 22,
   "metadata": {
    "id": "qkpWQ-0k4RUN"
   },
   "outputs": [],
   "source": [
    "from tensorflow.keras.models import load_model\n",
    "import numpy as np\n",
    "import cv2\n",
    "from tensorflow.keras.preprocessing import image"
   ]
  },
  {
   "cell_type": "code",
   "execution_count": 23,
   "metadata": {
    "id": "Il0lOr7S4t75"
   },
   "outputs": [],
   "source": [
    "#load the model\n",
    "model=load_model('aslpng2.h5')"
   ]
  },
  {
   "cell_type": "code",
   "execution_count": 25,
   "metadata": {
    "colab": {
     "base_uri": "https://localhost:8080/",
     "height": 417
    },
    "id": "oxvt3aVk5IxR",
    "outputId": "28db4c7c-838e-44ca-8f1e-0efdd4a7a562"
   },
   "outputs": [
    {
     "data": {
      "image/png": "[encoded data removed]",
      "text/plain": [
       "<PIL.Image.Image image mode=RGB size=500x400 at 0x2135551A220>"
      ]
     },
     "execution_count": 25,
     "metadata": {},
     "output_type": "execute_result"
    }
   ],
   "source": [
    "img=image.load_img('./test_set/A/10.png',target_size=(400,500))\n",
    "img"
   ]
  },
  {
   "cell_type": "markdown",
   "metadata": {
    "id": "t1IzEze88IyC"
   },
   "source": [
    "Load The Test Image, Pre-Process It And Predict"
   ]
  },
  {
   "cell_type": "code",
   "execution_count": 26,
   "metadata": {
    "id": "t61aP0l48SsW"
   },
   "outputs": [],
   "source": [
    "from skimage.transform import resize\n",
    "def detect(frame):\n",
    "  img=resize(frame,(64,64,1))\n",
    "  img=np.expand_dims(img,axis=0)\n",
    "  if(np.max(img)>1):\n",
    "    prediction=model.predict(img)\n",
    "    print(prediction)\n",
    "    prediction=model.predict_classes(img)\n",
    "    print(prediction)"
   ]
  },
  {
   "cell_type": "code",
   "execution_count": 27,
   "metadata": {
    "id": "KPb-u5SfEEmh"
   },
   "outputs": [],
   "source": [
    "arr= image.img_to_array(img)\n"
   ]
  },
  {
   "cell_type": "code",
   "execution_count": 40,
   "metadata": {
    "colab": {
     "base_uri": "https://localhost:8080/",
     "height": 81
    },
    "id": "bA9YIrwr9F-S",
    "outputId": "739912c4-61c5-432f-ea1f-ed79e6235089"
   },
   "outputs": [],
   "source": [
    "frame=cv2.imread('./test_set/A/10.png')\n",
    "data=detect(frame)\n",
    "#from google.colab.patches import cv2_imshow\n",
    "cv2.imshow('name',frame)\n",
    "cv2.waitKey(0)\n",
    "cv2.destroyAllWindows()"
   ]
  },
  {
   "cell_type": "code",
   "execution_count": 42,
   "metadata": {},
   "outputs": [
    {
     "data": {
      "image/png": "[encoded data removed]",
      "text/plain": [
       "<Figure size 432x288 with 1 Axes>"
      ]
     },
     "metadata": {
      "needs_background": "light"
     },
     "output_type": "display_data"
    }
   ],
   "source": [
    "from matplotlib import pyplot as plt\n",
    "\n",
    "plt.imshow(frame)\n",
    "plt.show()"
   ]
  },
  {
   "cell_type": "code",
   "execution_count": null,
   "metadata": {},
   "outputs": [],
   "source": []
  }
 ],
 "metadata": {
  "colab": {
   "collapsed_sections": [],
   "provenance": []
  },
  "kernelspec": {
   "display_name": "Python 3",
   "language": "python",
   "name": "python3"
  },
  "language_info": {
   "codemirror_mode": {
    "name": "ipython",
    "version": 3
   },
   "file_extension": ".py",
   "mimetype": "text/x-python",
   "name": "python",
   "nbconvert_exporter": "python",
   "pygments_lexer": "ipython3",
   "version": "3.8.3"
  }
 },
 "nbformat": 4,
 "nbformat_minor": 1
}
